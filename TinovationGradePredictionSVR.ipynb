{
 "cells": [
  {
   "cell_type": "code",
   "execution_count": 1,
   "id": "cb6ee889",
   "metadata": {
    "_cell_guid": "b1076dfc-b9ad-4769-8c92-a6c4dae69d19",
    "_uuid": "8f2839f25d086af736a60e9eeb907d3b93b6e0e5",
    "execution": {
     "iopub.execute_input": "2022-11-24T06:29:44.426801Z",
     "iopub.status.busy": "2022-11-24T06:29:44.426320Z",
     "iopub.status.idle": "2022-11-24T06:29:44.440628Z",
     "shell.execute_reply": "2022-11-24T06:29:44.439413Z"
    },
    "papermill": {
     "duration": 0.024614,
     "end_time": "2022-11-24T06:29:44.443969",
     "exception": false,
     "start_time": "2022-11-24T06:29:44.419355",
     "status": "completed"
    },
    "tags": []
   },
   "outputs": [
    {
     "name": "stdout",
     "output_type": "stream",
     "text": [
      "/kaggle/input/tinovation-grades-2022/sample_submission.csv\n",
      "/kaggle/input/tinovation-grades-2022/student_info.txt\n",
      "/kaggle/input/tinovation-grades-2022/train.csv\n",
      "/kaggle/input/tinovation-grades-2022/test.csv\n"
     ]
    }
   ],
   "source": [
    "# This Python 3 environment comes with many helpful analytics libraries installed\n",
    "# It is defined by the kaggle/python Docker image: https://github.com/kaggle/docker-python\n",
    "# For example, here's several helpful packages to load\n",
    "\n",
    "import numpy as np # linear algebra\n",
    "import pandas as pd # data processing, CSV file I/O (e.g. pd.read_csv)\n",
    "import matplotlib.pyplot as plt\n",
    "\n",
    "# Input data files are available in the read-only \"../input/\" directory\n",
    "# For example, running this (by clicking run or pressing Shift+Enter) will list all files under the input directory\n",
    "\n",
    "import os\n",
    "for dirname, _, filenames in os.walk('/kaggle/input'):\n",
    "    for filename in filenames:\n",
    "        print(os.path.join(dirname, filename))\n",
    "\n",
    "# You can write up to 20GB to the current directory (/kaggle/working/) that gets preserved as output when you create a version using \"Save & Run All\" \n",
    "# You can also write temporary files to /kaggle/temp/, but they won't be saved outside of the current session"
   ]
  },
  {
   "cell_type": "code",
   "execution_count": 2,
   "id": "252c84c2",
   "metadata": {
    "execution": {
     "iopub.execute_input": "2022-11-24T06:29:44.453841Z",
     "iopub.status.busy": "2022-11-24T06:29:44.453442Z",
     "iopub.status.idle": "2022-11-24T06:29:44.499621Z",
     "shell.execute_reply": "2022-11-24T06:29:44.498668Z"
    },
    "papermill": {
     "duration": 0.05351,
     "end_time": "2022-11-24T06:29:44.502168",
     "exception": false,
     "start_time": "2022-11-24T06:29:44.448658",
     "status": "completed"
    },
    "tags": []
   },
   "outputs": [],
   "source": [
    "train_data = pd.read_csv(\"/kaggle/input/tinovation-grades-2022/train.csv\",index_col=[0])\n",
    "train_data['G4'] = (train_data['G1']+train_data['G2'])/2\n",
    "test_data = pd.read_csv(\"/kaggle/input/tinovation-grades-2022/test.csv\",index_col=[0])\n",
    "test_data['G4'] = (test_data['G1']+test_data['G2'])/2\n",
    "#print(train_data)"
   ]
  },
  {
   "cell_type": "code",
   "execution_count": 3,
   "id": "86ac6df3",
   "metadata": {
    "execution": {
     "iopub.execute_input": "2022-11-24T06:29:44.511548Z",
     "iopub.status.busy": "2022-11-24T06:29:44.510528Z",
     "iopub.status.idle": "2022-11-24T06:29:44.519983Z",
     "shell.execute_reply": "2022-11-24T06:29:44.518716Z"
    },
    "papermill": {
     "duration": 0.016413,
     "end_time": "2022-11-24T06:29:44.522241",
     "exception": false,
     "start_time": "2022-11-24T06:29:44.505828",
     "status": "completed"
    },
    "tags": []
   },
   "outputs": [],
   "source": [
    "X = train_data.loc[0:,['G4']]\n",
    "y = train_data.loc[0:,['G3']]"
   ]
  },
  {
   "cell_type": "code",
   "execution_count": 4,
   "id": "4eacfed6",
   "metadata": {
    "execution": {
     "iopub.execute_input": "2022-11-24T06:29:44.530979Z",
     "iopub.status.busy": "2022-11-24T06:29:44.530609Z",
     "iopub.status.idle": "2022-11-24T06:29:45.715681Z",
     "shell.execute_reply": "2022-11-24T06:29:45.714687Z"
    },
    "papermill": {
     "duration": 1.192107,
     "end_time": "2022-11-24T06:29:45.718131",
     "exception": false,
     "start_time": "2022-11-24T06:29:44.526024",
     "status": "completed"
    },
    "tags": []
   },
   "outputs": [],
   "source": [
    "from sklearn.preprocessing import StandardScaler\n",
    "ss = StandardScaler()\n",
    "X = ss.fit_transform(X)\n",
    "y = ss.fit_transform(y)"
   ]
  },
  {
   "cell_type": "code",
   "execution_count": 5,
   "id": "2ad37f71",
   "metadata": {
    "execution": {
     "iopub.execute_input": "2022-11-24T06:29:45.727560Z",
     "iopub.status.busy": "2022-11-24T06:29:45.726645Z",
     "iopub.status.idle": "2022-11-24T06:29:45.914680Z",
     "shell.execute_reply": "2022-11-24T06:29:45.913034Z"
    },
    "papermill": {
     "duration": 0.196222,
     "end_time": "2022-11-24T06:29:45.917975",
     "exception": false,
     "start_time": "2022-11-24T06:29:45.721753",
     "status": "completed"
    },
    "tags": []
   },
   "outputs": [
    {
     "name": "stderr",
     "output_type": "stream",
     "text": [
      "/opt/conda/lib/python3.7/site-packages/sklearn/utils/validation.py:993: DataConversionWarning: A column-vector y was passed when a 1d array was expected. Please change the shape of y to (n_samples, ), for example using ravel().\n",
      "  y = column_or_1d(y, warn=True)\n"
     ]
    },
    {
     "data": {
      "text/plain": [
       "SVR(kernel='poly')"
      ]
     },
     "execution_count": 5,
     "metadata": {},
     "output_type": "execute_result"
    }
   ],
   "source": [
    "from sklearn.svm import SVR\n",
    "regressor = SVR(kernel = 'poly')\n",
    "regressor.fit(X, y)"
   ]
  },
  {
   "cell_type": "code",
   "execution_count": 6,
   "id": "f8f8e136",
   "metadata": {
    "execution": {
     "iopub.execute_input": "2022-11-24T06:29:45.928035Z",
     "iopub.status.busy": "2022-11-24T06:29:45.927479Z",
     "iopub.status.idle": "2022-11-24T06:29:46.167107Z",
     "shell.execute_reply": "2022-11-24T06:29:46.165787Z"
    },
    "papermill": {
     "duration": 0.247999,
     "end_time": "2022-11-24T06:29:46.169844",
     "exception": false,
     "start_time": "2022-11-24T06:29:45.921845",
     "status": "completed"
    },
    "tags": []
   },
   "outputs": [
    {
     "data": {
      "image/png": "[encoded data removed]",
      "text/plain": [
       "<Figure size 432x288 with 1 Axes>"
      ]
     },
     "metadata": {
      "needs_background": "light"
     },
     "output_type": "display_data"
    }
   ],
   "source": [
    "X_grid = np.arange(min(X), max(X), 0.01) #this step required because data is feature scaled.\n",
    "X_grid = X_grid.reshape((len(X_grid), 1))\n",
    "plt.scatter(X, y, color = 'red')\n",
    "plt.plot(X_grid, regressor.predict(X_grid), color = 'blue')\n",
    "plt.show()"
   ]
  },
  {
   "cell_type": "code",
   "execution_count": 7,
   "id": "36c09f6d",
   "metadata": {
    "execution": {
     "iopub.execute_input": "2022-11-24T06:29:46.179747Z",
     "iopub.status.busy": "2022-11-24T06:29:46.179340Z",
     "iopub.status.idle": "2022-11-24T06:29:46.206806Z",
     "shell.execute_reply": "2022-11-24T06:29:46.204048Z"
    },
    "papermill": {
     "duration": 0.03659,
     "end_time": "2022-11-24T06:29:46.210555",
     "exception": false,
     "start_time": "2022-11-24T06:29:46.173965",
     "status": "completed"
    },
    "tags": []
   },
   "outputs": [
    {
     "name": "stdout",
     "output_type": "stream",
     "text": [
      "    Id    G3\n",
      "0    0   9.0\n",
      "1    1  16.0\n",
      "2    2  11.0\n",
      "3    3  11.0\n",
      "4    4  11.0\n",
      "5    5  10.0\n",
      "6    6   7.0\n",
      "7    7  11.0\n",
      "8    8  11.0\n",
      "9    9  12.0\n",
      "10  10  11.0\n",
      "11  11  13.0\n",
      "12  12  10.0\n",
      "13  13   9.0\n",
      "14  14  11.0\n",
      "15  15   1.0\n",
      "16  16  11.0\n",
      "17  17  11.0\n",
      "18  18  12.0\n",
      "19  19  11.0\n",
      "20  20  11.0\n",
      "21  21  10.0\n",
      "22  22  11.0\n",
      "23  23  19.0\n",
      "24  24   5.0\n",
      "25  25  11.0\n",
      "26  26  11.0\n",
      "27  27  11.0\n",
      "28  28  11.0\n",
      "29  29  11.0\n",
      "30  30  15.0\n",
      "31  31  19.0\n",
      "32  32  19.0\n",
      "33  33   3.0\n",
      "34  34  11.0\n",
      "35  35  12.0\n",
      "36  36  11.0\n",
      "37  37  11.0\n",
      "38  38  11.0\n",
      "39  39  11.0\n",
      "40  40  11.0\n",
      "41  41  13.0\n",
      "42  42  12.0\n",
      "43  43  11.0\n",
      "44  44   9.0\n",
      "45  45  10.0\n",
      "46  46  11.0\n",
      "47  47  11.0\n",
      "48  48   9.0\n",
      "49  49  10.0\n",
      "50  50  13.0\n",
      "51  51  11.0\n",
      "52  52  11.0\n",
      "53  53  11.0\n",
      "54  54  13.0\n",
      "55  55  11.0\n",
      "56  56  11.0\n",
      "57  57  10.0\n",
      "58  58  19.0\n",
      "59  59   7.0\n",
      "60  60  15.0\n",
      "61  61  11.0\n",
      "62  62   9.0\n",
      "63  63   6.0\n",
      "64  64  12.0\n",
      "65  65  10.0\n",
      "66  66  11.0\n",
      "67  67  11.0\n",
      "68  68  11.0\n",
      "69  69  11.0\n",
      "70  70  11.0\n",
      "71  71  11.0\n",
      "72  72  11.0\n",
      "73  73  11.0\n",
      "74  74  11.0\n"
     ]
    }
   ],
   "source": [
    "xt = test_data.loc[0:,['G4']]\n",
    "y_pred = regressor.predict(ss.fit_transform(xt)).reshape(-1,1)\n",
    "y_pred = ss.inverse_transform(y_pred) \n",
    "# print(y_pred)\n",
    "y_pred = y_pred.ravel()\n",
    "output = pd.DataFrame({'Id': list(range(0,75)), 'G3': y_pred})\n",
    "output['G3'] = output['G3'].round()\n",
    "print(output.to_string())\n",
    "output.to_csv('submission.csv', index=False)"
   ]
  },
  {
   "cell_type": "code",
   "execution_count": 8,
   "id": "4215074c",
   "metadata": {
    "execution": {
     "iopub.execute_input": "2022-11-24T06:29:46.224154Z",
     "iopub.status.busy": "2022-11-24T06:29:46.223762Z",
     "iopub.status.idle": "2022-11-24T06:29:46.296875Z",
     "shell.execute_reply": "2022-11-24T06:29:46.295723Z"
    },
    "papermill": {
     "duration": 0.083277,
     "end_time": "2022-11-24T06:29:46.299533",
     "exception": false,
     "start_time": "2022-11-24T06:29:46.216256",
     "status": "completed"
    },
    "tags": []
   },
   "outputs": [],
   "source": [
    "from sklearn.feature_selection import SelectKBest, f_regression\n",
    "from sklearn.preprocessing import OneHotEncoder, LabelEncoder, MinMaxScaler, StandardScaler"
   ]
  },
  {
   "cell_type": "code",
   "execution_count": 9,
   "id": "2168a0a0",
   "metadata": {
    "execution": {
     "iopub.execute_input": "2022-11-24T06:29:46.309652Z",
     "iopub.status.busy": "2022-11-24T06:29:46.309236Z",
     "iopub.status.idle": "2022-11-24T06:29:46.337181Z",
     "shell.execute_reply": "2022-11-24T06:29:46.335813Z"
    },
    "papermill": {
     "duration": 0.036363,
     "end_time": "2022-11-24T06:29:46.340157",
     "exception": false,
     "start_time": "2022-11-24T06:29:46.303794",
     "status": "completed"
    },
    "tags": []
   },
   "outputs": [],
   "source": [
    "train_data['sex'] = train_data['sex'].eq('M').mul(1)\n",
    "train_data['address'] = train_data['address'].eq('U').mul(1)\n",
    "train_data['guardian'] = train_data['guardian'].eq('mother').mul(1)\n",
    "train_data['schoolsup'] = train_data['schoolsup'].eq('yes').mul(1)\n",
    "train_data['famsup'] = train_data['famsup'].eq('yes').mul(1)\n",
    "train_data['paid'] = train_data['paid'].eq('yes').mul(1)\n",
    "train_data['activities'] = train_data['activities'].eq('yes').mul(1)\n",
    "train_data['nursery'] = train_data['nursery'].eq('yes').mul(1)\n",
    "train_data['internet'] = train_data['internet'].eq('yes').mul(1)\n",
    "train_data['romantic'] = train_data['romantic'].eq('yes').mul(1)\n",
    "\n",
    "test_data['sex'] = test_data['sex'].eq('M').mul(1)\n",
    "test_data['address'] = test_data['address'].eq('U').mul(1)\n",
    "test_data['guardian'] = test_data['guardian'].eq('mother').mul(1)\n",
    "test_data['schoolsup'] = test_data['schoolsup'].eq('yes').mul(1)\n",
    "test_data['famsup'] = test_data['famsup'].eq('yes').mul(1)\n",
    "test_data['paid'] = test_data['paid'].eq('yes').mul(1)\n",
    "test_data['activities'] = test_data['activities'].eq('yes').mul(1)\n",
    "test_data['nursery'] = test_data['nursery'].eq('yes').mul(1)\n",
    "test_data['internet'] = test_data['internet'].eq('yes').mul(1)\n",
    "test_data['romantic'] = test_data['romantic'].eq('yes').mul(1)"
   ]
  },
  {
   "cell_type": "code",
   "execution_count": 10,
   "id": "49d0db64",
   "metadata": {
    "execution": {
     "iopub.execute_input": "2022-11-24T06:29:46.350785Z",
     "iopub.status.busy": "2022-11-24T06:29:46.349699Z",
     "iopub.status.idle": "2022-11-24T06:29:46.361549Z",
     "shell.execute_reply": "2022-11-24T06:29:46.360750Z"
    },
    "papermill": {
     "duration": 0.020242,
     "end_time": "2022-11-24T06:29:46.364707",
     "exception": false,
     "start_time": "2022-11-24T06:29:46.344465",
     "status": "completed"
    },
    "tags": []
   },
   "outputs": [
    {
     "name": "stdout",
     "output_type": "stream",
     "text": [
      "Feature importances:\n",
      "147.12 G2\n",
      "135.23 G4\n",
      "89.05 G1\n",
      "12.83 failures\n",
      "2.90 age\n",
      "2.08 goout\n",
      "2.01 romantic\n",
      "1.45 address\n",
      "1.40 sex\n",
      "1.37 paid\n",
      "1.30 internet\n",
      "1.28 studytime\n",
      "1.00 schoolsup\n",
      "0.65 health\n",
      "0.56 Dalc\n",
      "0.52 Walc\n",
      "0.51 nursery\n",
      "0.51 famrel\n",
      "0.36 famsup\n",
      "0.30 absences\n",
      "0.18 guardian\n",
      "0.13 activities\n",
      "0.08 freetime\n"
     ]
    }
   ],
   "source": [
    "possible_features = train_data.columns.copy().drop('G3')\n",
    "\n",
    "# Check feature importances\n",
    "selector = SelectKBest(f_regression, k = len(possible_features))\n",
    "selector.fit(train_data[possible_features], train_data['G3'])\n",
    "scores = -np.log10(selector.pvalues_)\n",
    "indices = np.argsort(scores)[::-1]\n",
    "print('Feature importances:')\n",
    "for i in range(len(scores)):\n",
    "    print('%.2f %s' % (scores[indices[i]], possible_features[indices[i]]))"
   ]
  }
 ],
 "metadata": {
  "kernelspec": {
   "display_name": "Python 3",
   "language": "python",
   "name": "python3"
  },
  "language_info": {
   "codemirror_mode": {
    "name": "ipython",
    "version": 3
   },
   "file_extension": ".py",
   "mimetype": "text/x-python",
   "name": "python",
   "nbconvert_exporter": "python",
   "pygments_lexer": "ipython3",
   "version": "3.7.12"
  },
  "papermill": {
   "default_parameters": {},
   "duration": 11.655083,
   "end_time": "2022-11-24T06:29:47.195452",
   "environment_variables": {},
   "exception": null,
   "input_path": "__notebook__.ipynb",
   "output_path": "__notebook__.ipynb",
   "parameters": {},
   "start_time": "2022-11-24T06:29:35.540369",
   "version": "2.3.4"
  }
 },
 "nbformat": 4,
 "nbformat_minor": 5
}
