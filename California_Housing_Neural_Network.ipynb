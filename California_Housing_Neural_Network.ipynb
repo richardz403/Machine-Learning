{
  "nbformat": 4,
  "nbformat_minor": 0,
  "metadata": {
    "colab": {
      "provenance": []
    },
    "kernelspec": {
      "name": "python3",
      "display_name": "Python 3"
    },
    "language_info": {
      "name": "python"
    }
  },
  "cells": [
    {
      "cell_type": "code",
      "metadata": {
        "id": "KAc-jAhfiCN8"
      },
      "source": [
        "# library\n",
        "from sklearn.datasets import fetch_california_housing\n",
        "from sklearn.model_selection import train_test_split\n",
        "from sklearn.preprocessing import StandardScaler\n",
        "import tensorflow as tf"
      ],
      "execution_count": null,
      "outputs": []
    },
    {
      "cell_type": "code",
      "metadata": {
        "id": "iFvH8LK-ifeH"
      },
      "source": [
        "# data\n",
        "housing = fetch_california_housing()"
      ],
      "execution_count": null,
      "outputs": []
    },
    {
      "cell_type": "code",
      "source": [
        "df = pd.DataFrame(housing.data, columns=housing.feature_names)\n",
        "df.head(3)"
      ],
      "metadata": {
        "colab": {
          "base_uri": "https://localhost:8080/",
          "height": 143
        },
        "id": "PXL9xyVd8trn",
        "outputId": "3083760a-0c88-45b2-d9db-553b8be71977"
      },
      "execution_count": null,
      "outputs": [
        {
          "output_type": "execute_result",
          "data": {
            "text/plain": [
              "   MedInc  HouseAge  AveRooms  AveBedrms  Population  AveOccup  Latitude  \\\n",
              "0  8.3252      41.0  6.984127   1.023810       322.0  2.555556     37.88   \n",
              "1  8.3014      21.0  6.238137   0.971880      2401.0  2.109842     37.86   \n",
              "2  7.2574      52.0  8.288136   1.073446       496.0  2.802260     37.85   \n",
              "\n",
              "   Longitude  \n",
              "0    -122.23  \n",
              "1    -122.22  \n",
              "2    -122.24  "
            ],
            "text/html": [
              "\n",
              "  <div id=\"df-1cad333a-a1c6-40ae-86bb-a81f4fcce084\">\n",
              "    <div class=\"colab-df-container\">\n",
              "      <div>\n",
              "<style scoped>\n",
              "    .dataframe tbody tr th:only-of-type {\n",
              "        vertical-align: middle;\n",
              "    }\n",
              "\n",
              "    .dataframe tbody tr th {\n",
              "        vertical-align: top;\n",
              "    }\n",
              "\n",
              "    .dataframe thead th {\n",
              "        text-align: right;\n",
              "    }\n",
              "</style>\n",
              "<table border=\"1\" class=\"dataframe\">\n",
              "  <thead>\n",
              "    <tr style=\"text-align: right;\">\n",
              "      <th></th>\n",
              "      <th>MedInc</th>\n",
              "      <th>HouseAge</th>\n",
              "      <th>AveRooms</th>\n",
              "      <th>AveBedrms</th>\n",
              "      <th>Population</th>\n",
              "      <th>AveOccup</th>\n",
              "      <th>Latitude</th>\n",
              "      <th>Longitude</th>\n",
              "    </tr>\n",
              "  </thead>\n",
              "  <tbody>\n",
              "    <tr>\n",
              "      <th>0</th>\n",
              "      <td>8.3252</td>\n",
              "      <td>41.0</td>\n",
              "      <td>6.984127</td>\n",
              "      <td>1.023810</td>\n",
              "      <td>322.0</td>\n",
              "      <td>2.555556</td>\n",
              "      <td>37.88</td>\n",
              "      <td>-122.23</td>\n",
              "    </tr>\n",
              "    <tr>\n",
              "      <th>1</th>\n",
              "      <td>8.3014</td>\n",
              "      <td>21.0</td>\n",
              "      <td>6.238137</td>\n",
              "      <td>0.971880</td>\n",
              "      <td>2401.0</td>\n",
              "      <td>2.109842</td>\n",
              "      <td>37.86</td>\n",
              "      <td>-122.22</td>\n",
              "    </tr>\n",
              "    <tr>\n",
              "      <th>2</th>\n",
              "      <td>7.2574</td>\n",
              "      <td>52.0</td>\n",
              "      <td>8.288136</td>\n",
              "      <td>1.073446</td>\n",
              "      <td>496.0</td>\n",
              "      <td>2.802260</td>\n",
              "      <td>37.85</td>\n",
              "      <td>-122.24</td>\n",
              "    </tr>\n",
              "  </tbody>\n",
              "</table>\n",
              "</div>\n",
              "      <button class=\"colab-df-convert\" onclick=\"convertToInteractive('df-1cad333a-a1c6-40ae-86bb-a81f4fcce084')\"\n",
              "              title=\"Convert this dataframe to an interactive table.\"\n",
              "              style=\"display:none;\">\n",
              "        \n",
              "  <svg xmlns=\"http://www.w3.org/2000/svg\" height=\"24px\"viewBox=\"0 0 24 24\"\n",
              "       width=\"24px\">\n",
              "    <path d=\"M0 0h24v24H0V0z\" fill=\"none\"/>\n",
              "    <path d=\"M18.56 5.44l.94 2.06.94-2.06 2.06-.94-2.06-.94-.94-2.06-.94 2.06-2.06.94zm-11 1L8.5 8.5l.94-2.06 2.06-.94-2.06-.94L8.5 2.5l-.94 2.06-2.06.94zm10 10l.94 2.06.94-2.06 2.06-.94-2.06-.94-.94-2.06-.94 2.06-2.06.94z\"/><path d=\"M17.41 7.96l-1.37-1.37c-.4-.4-.92-.59-1.43-.59-.52 0-1.04.2-1.43.59L10.3 9.45l-7.72 7.72c-.78.78-.78 2.05 0 2.83L4 21.41c.39.39.9.59 1.41.59.51 0 1.02-.2 1.41-.59l7.78-7.78 2.81-2.81c.8-.78.8-2.07 0-2.86zM5.41 20L4 18.59l7.72-7.72 1.47 1.35L5.41 20z\"/>\n",
              "  </svg>\n",
              "      </button>\n",
              "      \n",
              "  <style>\n",
              "    .colab-df-container {\n",
              "      display:flex;\n",
              "      flex-wrap:wrap;\n",
              "      gap: 12px;\n",
              "    }\n",
              "\n",
              "    .colab-df-convert {\n",
              "      background-color: #E8F0FE;\n",
              "      border: none;\n",
              "      border-radius: 50%;\n",
              "      cursor: pointer;\n",
              "      display: none;\n",
              "      fill: #1967D2;\n",
              "      height: 32px;\n",
              "      padding: 0 0 0 0;\n",
              "      width: 32px;\n",
              "    }\n",
              "\n",
              "    .colab-df-convert:hover {\n",
              "      background-color: #E2EBFA;\n",
              "      box-shadow: 0px 1px 2px rgba(60, 64, 67, 0.3), 0px 1px 3px 1px rgba(60, 64, 67, 0.15);\n",
              "      fill: #174EA6;\n",
              "    }\n",
              "\n",
              "    [theme=dark] .colab-df-convert {\n",
              "      background-color: #3B4455;\n",
              "      fill: #D2E3FC;\n",
              "    }\n",
              "\n",
              "    [theme=dark] .colab-df-convert:hover {\n",
              "      background-color: #434B5C;\n",
              "      box-shadow: 0px 1px 3px 1px rgba(0, 0, 0, 0.15);\n",
              "      filter: drop-shadow(0px 1px 2px rgba(0, 0, 0, 0.3));\n",
              "      fill: #FFFFFF;\n",
              "    }\n",
              "  </style>\n",
              "\n",
              "      <script>\n",
              "        const buttonEl =\n",
              "          document.querySelector('#df-1cad333a-a1c6-40ae-86bb-a81f4fcce084 button.colab-df-convert');\n",
              "        buttonEl.style.display =\n",
              "          google.colab.kernel.accessAllowed ? 'block' : 'none';\n",
              "\n",
              "        async function convertToInteractive(key) {\n",
              "          const element = document.querySelector('#df-1cad333a-a1c6-40ae-86bb-a81f4fcce084');\n",
              "          const dataTable =\n",
              "            await google.colab.kernel.invokeFunction('convertToInteractive',\n",
              "                                                     [key], {});\n",
              "          if (!dataTable) return;\n",
              "\n",
              "          const docLinkHtml = 'Like what you see? Visit the ' +\n",
              "            '<a target=\"_blank\" href=https://colab.research.google.com/notebooks/data_table.ipynb>data table notebook</a>'\n",
              "            + ' to learn more about interactive tables.';\n",
              "          element.innerHTML = '';\n",
              "          dataTable['output_type'] = 'display_data';\n",
              "          await google.colab.output.renderOutput(dataTable, element);\n",
              "          const docLink = document.createElement('div');\n",
              "          docLink.innerHTML = docLinkHtml;\n",
              "          element.appendChild(docLink);\n",
              "        }\n",
              "      </script>\n",
              "    </div>\n",
              "  </div>\n",
              "  "
            ]
          },
          "metadata": {},
          "execution_count": 34
        }
      ]
    },
    {
      "cell_type": "code",
      "metadata": {
        "id": "PRT6vt2UjIIa"
      },
      "source": [
        "# standardize\n",
        "X_train_full, X_test, y_train_full, y_test = train_test_split(housing.data, housing.target)\n",
        "#divide full training set to training set and validation set\n",
        "X_train, X_valid, y_train, y_valid = train_test_split(X_train_full, y_train_full)\n",
        "scaler = StandardScaler() \n",
        "X_train = scaler.fit_transform(X_train)\n",
        "X_valid = scaler.transform(X_valid)\n",
        "X_test = scaler.transform(X_test)"
      ],
      "execution_count": null,
      "outputs": []
    },
    {
      "cell_type": "code",
      "metadata": {
        "id": "gdR_lSiQjWqp"
      },
      "source": [
        "# sequential API\n",
        "model = tf.keras.models.Sequential([\n",
        "     tf.keras.layers.Dense(1000, activation=tf.nn.relu), \n",
        "     tf.keras.layers.Dense(1000, activation=tf.nn.relu),\n",
        "     tf.keras.layers.Dense(1)\n",
        "     \n",
        "  ]) # softmax is designed for multi-class classification"
      ],
      "execution_count": null,
      "outputs": []
    },
    {
      "cell_type": "code",
      "metadata": {
        "id": "tOURLCvdj1dv"
      },
      "source": [
        "# compile\n",
        "model.compile(\n",
        "    loss='mean_squared_error',\n",
        "    optimizer='sgd'\n",
        ")"
      ],
      "execution_count": null,
      "outputs": []
    },
    {
      "cell_type": "code",
      "metadata": {
        "id": "3E9zlAsVkBaz",
        "colab": {
          "base_uri": "https://localhost:8080/"
        },
        "outputId": "e3b12857-0a07-4e3d-94c4-c9c5d5e87bdd"
      },
      "source": [
        "# fit the model\n",
        "history = model.fit(\n",
        "    X_train, y_train, epochs=20,\n",
        "    validation_data=(X_valid, y_valid)\n",
        ")"
      ],
      "execution_count": null,
      "outputs": [
        {
          "output_type": "stream",
          "name": "stdout",
          "text": [
            "Epoch 1/20\n",
            "363/363 [==============================] - 4s 9ms/step - loss: 0.8345 - val_loss: 0.4881\n",
            "Epoch 2/20\n",
            "363/363 [==============================] - 3s 8ms/step - loss: 0.4250 - val_loss: 0.4072\n",
            "Epoch 3/20\n",
            "363/363 [==============================] - 3s 8ms/step - loss: 0.3963 - val_loss: 0.3780\n",
            "Epoch 4/20\n",
            "363/363 [==============================] - 5s 13ms/step - loss: 0.3647 - val_loss: 0.3688\n",
            "Epoch 5/20\n",
            "363/363 [==============================] - 3s 8ms/step - loss: 0.3522 - val_loss: 0.3553\n",
            "Epoch 6/20\n",
            "363/363 [==============================] - 3s 8ms/step - loss: 0.3431 - val_loss: 0.3803\n",
            "Epoch 7/20\n",
            "363/363 [==============================] - 3s 8ms/step - loss: 0.3382 - val_loss: 0.3470\n",
            "Epoch 8/20\n",
            "363/363 [==============================] - 3s 9ms/step - loss: 0.3313 - val_loss: 0.3429\n",
            "Epoch 9/20\n",
            "363/363 [==============================] - 3s 8ms/step - loss: 0.3277 - val_loss: 0.3397\n",
            "Epoch 10/20\n",
            "363/363 [==============================] - 3s 8ms/step - loss: 0.3202 - val_loss: 0.3265\n",
            "Epoch 11/20\n",
            "363/363 [==============================] - 3s 8ms/step - loss: 0.3159 - val_loss: 0.3338\n",
            "Epoch 12/20\n",
            "363/363 [==============================] - 3s 9ms/step - loss: 0.3116 - val_loss: 0.3251\n",
            "Epoch 13/20\n",
            "363/363 [==============================] - 3s 8ms/step - loss: 0.3087 - val_loss: 0.3182\n",
            "Epoch 14/20\n",
            "363/363 [==============================] - 3s 8ms/step - loss: 0.3074 - val_loss: 0.3137\n",
            "Epoch 15/20\n",
            "363/363 [==============================] - 3s 8ms/step - loss: 0.3030 - val_loss: 0.3114\n",
            "Epoch 16/20\n",
            "363/363 [==============================] - 4s 10ms/step - loss: 0.2977 - val_loss: 0.3133\n",
            "Epoch 17/20\n",
            "363/363 [==============================] - 3s 8ms/step - loss: 0.2953 - val_loss: 0.3070\n",
            "Epoch 18/20\n",
            "363/363 [==============================] - 3s 8ms/step - loss: 0.2932 - val_loss: 0.3072\n",
            "Epoch 19/20\n",
            "363/363 [==============================] - 3s 8ms/step - loss: 0.2954 - val_loss: 0.3043\n",
            "Epoch 20/20\n",
            "363/363 [==============================] - 3s 9ms/step - loss: 0.2917 - val_loss: 0.3026\n"
          ]
        }
      ]
    },
    {
      "cell_type": "code",
      "metadata": {
        "id": "mC-es_aEkJvV",
        "colab": {
          "base_uri": "https://localhost:8080/"
        },
        "outputId": "cf4afdba-d34c-469a-e2c2-e97c278a32cc"
      },
      "source": [
        "# compute test set error\n",
        "mse_test = model.evaluate(X_test, y_test)\n",
        "mse_test"
      ],
      "execution_count": null,
      "outputs": [
        {
          "output_type": "stream",
          "name": "stdout",
          "text": [
            "162/162 [==============================] - 0s 2ms/step - loss: 0.3392\n"
          ]
        },
        {
          "output_type": "execute_result",
          "data": {
            "text/plain": [
              "0.3392326235771179"
            ]
          },
          "metadata": {},
          "execution_count": 24
        }
      ]
    },
    {
      "cell_type": "code",
      "metadata": {
        "id": "oxXbf1WZkV1F"
      },
      "source": [
        "# get an arbitrary new observation\n",
        "X_new = X_test[:3]"
      ],
      "execution_count": null,
      "outputs": []
    },
    {
      "cell_type": "code",
      "metadata": {
        "id": "SIe_E43Lkdlb",
        "colab": {
          "base_uri": "https://localhost:8080/"
        },
        "outputId": "c4ed71ce-1b4a-4b03-cf19-344ef9851c90"
      },
      "source": [
        "# predict using arbitrar X defined above\n",
        "y_pred = model.predict(X_new)"
      ],
      "execution_count": null,
      "outputs": [
        {
          "output_type": "stream",
          "name": "stdout",
          "text": [
            "1/1 [==============================] - 0s 38ms/step\n"
          ]
        }
      ]
    },
    {
      "cell_type": "code",
      "metadata": {
        "id": "JAmAcca7kiLX",
        "colab": {
          "base_uri": "https://localhost:8080/"
        },
        "outputId": "90c74f58-e544-4a08-943c-83edaa72e0a4"
      },
      "source": [
        "# check outcome\n",
        "y_pred"
      ],
      "execution_count": null,
      "outputs": [
        {
          "output_type": "execute_result",
          "data": {
            "text/plain": [
              "array([[2.3410208],\n",
              "       [2.1592302],\n",
              "       [1.2937293]], dtype=float32)"
            ]
          },
          "metadata": {},
          "execution_count": 27
        }
      ]
    },
    {
      "cell_type": "code",
      "metadata": {
        "id": "X-ty2qGLlqf8",
        "colab": {
          "base_uri": "https://localhost:8080/"
        },
        "outputId": "669a8ff0-10a0-438c-e536-9a85ddc2bc22"
      },
      "source": [
        "print(X_train.shape)\n",
        "print(X_train.shape[1:])"
      ],
      "execution_count": null,
      "outputs": [
        {
          "output_type": "stream",
          "name": "stdout",
          "text": [
            "(11610, 8)\n",
            "(8,)\n"
          ]
        }
      ]
    },
    {
      "cell_type": "markdown",
      "source": [
        "#### Performance"
      ],
      "metadata": {
        "id": "uxIh4tJShWyk"
      }
    },
    {
      "cell_type": "code",
      "source": [
        "import pandas as pd\n",
        "import matplotlib.pyplot as plt\n",
        "\n",
        "# plot training and validating performance\n",
        "pd.DataFrame(history.history).plot(figsize=(8,5))\n",
        "plt.grid(True)\n",
        "plt.show()"
      ],
      "metadata": {
        "id": "8gTql92ngtbG",
        "colab": {
          "base_uri": "https://localhost:8080/",
          "height": 445
        },
        "outputId": "8978446d-ba76-45d8-bcc4-0ee7e75fbde8"
      },
      "execution_count": null,
      "outputs": [
        {
          "output_type": "display_data",
          "data": {
            "text/plain": [
              "<Figure size 800x500 with 1 Axes>"
            ],
            "image/png": "[encoded data removed]"
          },
          "metadata": {}
        }
      ]
    }
  ]
}