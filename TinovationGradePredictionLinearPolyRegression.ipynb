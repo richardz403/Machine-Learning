{
 "cells": [
  {
   "cell_type": "code",
   "execution_count": 1,
   "id": "3753256d",
   "metadata": {
    "_cell_guid": "b1076dfc-b9ad-4769-8c92-a6c4dae69d19",
    "_uuid": "8f2839f25d086af736a60e9eeb907d3b93b6e0e5",
    "execution": {
     "iopub.execute_input": "2022-11-22T06:42:32.308181Z",
     "iopub.status.busy": "2022-11-22T06:42:32.307046Z",
     "iopub.status.idle": "2022-11-22T06:42:33.415140Z",
     "shell.execute_reply": "2022-11-22T06:42:33.413766Z"
    },
    "papermill": {
     "duration": 1.118997,
     "end_time": "2022-11-22T06:42:33.418811",
     "exception": false,
     "start_time": "2022-11-22T06:42:32.299814",
     "status": "completed"
    },
    "tags": []
   },
   "outputs": [
    {
     "name": "stdout",
     "output_type": "stream",
     "text": [
      "/kaggle/input/tinovation-grades-2022/sample_submission.csv\n",
      "/kaggle/input/tinovation-grades-2022/student_info.txt\n",
      "/kaggle/input/tinovation-grades-2022/train.csv\n",
      "/kaggle/input/tinovation-grades-2022/test.csv\n"
     ]
    }
   ],
   "source": [
    "# This Python 3 environment comes with many helpful analytics libraries installed\n",
    "# It is defined by the kaggle/python Docker image: https://github.com/kaggle/docker-python\n",
    "# For example, here's several helpful packages to load\n",
    "\n",
    " # linear algebra\n",
    " # data processing, CSV file I/O (e.g. pd.read_csv)\n",
    "\n",
    "import numpy as np \n",
    "import pandas as pd \n",
    "import matplotlib.pyplot as plt\n",
    "import seaborn as sns\n",
    "import os\n",
    "\n",
    "# Input data files are available in the read-only \"../input/\" directory\n",
    "# For example, running this (by clicking run or pressing Shift+Enter) will list all files under the input directory\n",
    "\n",
    "import os\n",
    "for dirname, _, filenames in os.walk('/kaggle/input'):\n",
    "    for filename in filenames:\n",
    "        print(os.path.join(dirname, filename))\n",
    "\n",
    "# You can write up to 20GB to the current directory (/kaggle/working/) that gets preserved as output when you create a version using \"Save & Run All\" \n",
    "# You can also write temporary files to /kaggle/temp/, but they won't be saved outside of the current session"
   ]
  },
  {
   "cell_type": "code",
   "execution_count": 2,
   "id": "a8cfc10b",
   "metadata": {
    "execution": {
     "iopub.execute_input": "2022-11-22T06:42:33.429642Z",
     "iopub.status.busy": "2022-11-22T06:42:33.428676Z",
     "iopub.status.idle": "2022-11-22T06:42:33.491003Z",
     "shell.execute_reply": "2022-11-22T06:42:33.489328Z"
    },
    "papermill": {
     "duration": 0.071415,
     "end_time": "2022-11-22T06:42:33.494797",
     "exception": false,
     "start_time": "2022-11-22T06:42:33.423382",
     "status": "completed"
    },
    "tags": []
   },
   "outputs": [
    {
     "name": "stdout",
     "output_type": "stream",
     "text": [
      "    sex  age address guardian  studytime  failures schoolsup famsup paid  \\\n",
      "0     F   18       U   mother          2         0       yes     no   no   \n",
      "1     F   17       U   father          2         0        no    yes   no   \n",
      "2     F   15       U   mother          2         3       yes     no  yes   \n",
      "3     F   15       U   mother          3         0        no    yes  yes   \n",
      "4     F   16       U   father          2         0        no    yes  yes   \n",
      "..   ..  ...     ...      ...        ...       ...       ...    ...  ...   \n",
      "390   M   20       U    other          2         2        no    yes  yes   \n",
      "391   M   17       U   mother          1         0        no     no   no   \n",
      "392   M   21       R    other          1         3        no     no   no   \n",
      "393   M   18       R   mother          1         0        no     no   no   \n",
      "394   M   19       U   father          1         0        no     no   no   \n",
      "\n",
      "    activities  ... freetime goout Dalc  Walc  health  absences  G1  G2  G3  \\\n",
      "0           no  ...        3     4    1     1       3         6   5   6   6   \n",
      "1           no  ...        3     3    1     1       3         4   5   5   6   \n",
      "2           no  ...        3     2    2     3       3        10   7   8  10   \n",
      "3          yes  ...        2     2    1     1       5         2  15  14  15   \n",
      "4           no  ...        3     2    1     2       5         4   6  10  10   \n",
      "..         ...  ...      ...   ...  ...   ...     ...       ...  ..  ..  ..   \n",
      "390         no  ...        5     4    4     5       4        11   9   9   9   \n",
      "391         no  ...        4     5    3     4       2         3  14  16  16   \n",
      "392         no  ...        5     3    3     3       3         3  10   8   7   \n",
      "393         no  ...        4     1    3     4       5         0  11  12  10   \n",
      "394         no  ...        2     3    3     3       5         5   8   9   9   \n",
      "\n",
      "       G4  \n",
      "0     5.5  \n",
      "1     5.0  \n",
      "2     7.5  \n",
      "3    14.5  \n",
      "4     8.0  \n",
      "..    ...  \n",
      "390   9.0  \n",
      "391  15.0  \n",
      "392   9.0  \n",
      "393  11.5  \n",
      "394   8.5  \n",
      "\n",
      "[395 rows x 24 columns]\n"
     ]
    }
   ],
   "source": [
    "train_data = pd.read_csv(\"/kaggle/input/tinovation-grades-2022/train.csv\",index_col=[0])\n",
    "train_data['G4'] = (train_data['G1']+train_data['G2'])/2\n",
    "test_data = pd.read_csv(\"/kaggle/input/tinovation-grades-2022/test.csv\",index_col=[0])\n",
    "test_data['Id'] = list(range(0, 75))\n",
    "test_data['G4'] = (test_data['G1']+test_data['G2'])/2\n",
    "print(train_data)\n"
   ]
  },
  {
   "cell_type": "code",
   "execution_count": 3,
   "id": "9daaa492",
   "metadata": {
    "execution": {
     "iopub.execute_input": "2022-11-22T06:42:33.504238Z",
     "iopub.status.busy": "2022-11-22T06:42:33.503806Z",
     "iopub.status.idle": "2022-11-22T06:42:33.842800Z",
     "shell.execute_reply": "2022-11-22T06:42:33.840914Z"
    },
    "papermill": {
     "duration": 0.347094,
     "end_time": "2022-11-22T06:42:33.845758",
     "exception": false,
     "start_time": "2022-11-22T06:42:33.498664",
     "status": "completed"
    },
    "tags": []
   },
   "outputs": [
    {
     "data": {
      "text/plain": [
       "<AxesSubplot:xlabel='G4', ylabel='G3'>"
      ]
     },
     "execution_count": 3,
     "metadata": {},
     "output_type": "execute_result"
    },
    {
     "data": {
      "image/png": "[encoded data removed]",
      "text/plain": [
       "<Figure size 432x288 with 1 Axes>"
      ]
     },
     "metadata": {
      "needs_background": "light"
     },
     "output_type": "display_data"
    }
   ],
   "source": [
    "sns.scatterplot(data = train_data, x = \"G4\", y = \"G3\")"
   ]
  },
  {
   "cell_type": "code",
   "execution_count": 4,
   "id": "3095b9ba",
   "metadata": {
    "execution": {
     "iopub.execute_input": "2022-11-22T06:42:33.856192Z",
     "iopub.status.busy": "2022-11-22T06:42:33.855757Z",
     "iopub.status.idle": "2022-11-22T06:42:33.875944Z",
     "shell.execute_reply": "2022-11-22T06:42:33.874420Z"
    },
    "papermill": {
     "duration": 0.028532,
     "end_time": "2022-11-22T06:42:33.878655",
     "exception": false,
     "start_time": "2022-11-22T06:42:33.850123",
     "status": "completed"
    },
    "tags": []
   },
   "outputs": [
    {
     "data": {
      "text/plain": [
       "(75, 2)"
      ]
     },
     "execution_count": 4,
     "metadata": {},
     "output_type": "execute_result"
    }
   ],
   "source": [
    "train = train_data.loc[0:,['G4',\"G3\"]]\n",
    "train = train.dropna(axis = 0);\n",
    "train.shape\n",
    "test = test_data.loc[0:,[\"Id\",\"G4\"]]\n",
    "test = test.fillna(np.median(test.dropna()))\n",
    "test.shape"
   ]
  },
  {
   "cell_type": "code",
   "execution_count": 5,
   "id": "d8b1e5eb",
   "metadata": {
    "execution": {
     "iopub.execute_input": "2022-11-22T06:42:33.890217Z",
     "iopub.status.busy": "2022-11-22T06:42:33.889070Z",
     "iopub.status.idle": "2022-11-22T06:42:34.107090Z",
     "shell.execute_reply": "2022-11-22T06:42:34.106015Z"
    },
    "papermill": {
     "duration": 0.22698,
     "end_time": "2022-11-22T06:42:34.110231",
     "exception": false,
     "start_time": "2022-11-22T06:42:33.883251",
     "status": "completed"
    },
    "tags": []
   },
   "outputs": [],
   "source": [
    "X = train.loc[:,[\"G4\"]]\n",
    "y = np.array(train.loc[:,['G3']]).ravel()\n",
    "from sklearn.model_selection import train_test_split\n",
    "X_train, X_test, y_train, y_test = train_test_split(X, y, train_size = 0.3,random_state=0)\n",
    "X_train = np.array(X_train)\n",
    "y_train = np.array(y_train).reshape(-1, 1)\n",
    "X_test = np.array(X_test)\n",
    "y_test = np.array(y_test).reshape(-1, 1)"
   ]
  },
  {
   "cell_type": "code",
   "execution_count": 6,
   "id": "3626eb69",
   "metadata": {
    "execution": {
     "iopub.execute_input": "2022-11-22T06:42:34.124244Z",
     "iopub.status.busy": "2022-11-22T06:42:34.123591Z",
     "iopub.status.idle": "2022-11-22T06:42:34.232702Z",
     "shell.execute_reply": "2022-11-22T06:42:34.231708Z"
    },
    "papermill": {
     "duration": 0.119045,
     "end_time": "2022-11-22T06:42:34.235122",
     "exception": false,
     "start_time": "2022-11-22T06:42:34.116077",
     "status": "completed"
    },
    "tags": []
   },
   "outputs": [
    {
     "data": {
      "text/plain": [
       "0.779589395999129"
      ]
     },
     "execution_count": 6,
     "metadata": {},
     "output_type": "execute_result"
    }
   ],
   "source": [
    "from sklearn.linear_model import LinearRegression\n",
    "from sklearn.metrics import accuracy_score   \n",
    "\n",
    "model = LinearRegression() \n",
    "model.fit(X_train, y_train)\n",
    "model.score(X_test, y_test)"
   ]
  },
  {
   "cell_type": "code",
   "execution_count": 7,
   "id": "f8fd6cda",
   "metadata": {
    "execution": {
     "iopub.execute_input": "2022-11-22T06:42:34.246235Z",
     "iopub.status.busy": "2022-11-22T06:42:34.245566Z",
     "iopub.status.idle": "2022-11-22T06:42:34.461139Z",
     "shell.execute_reply": "2022-11-22T06:42:34.459485Z"
    },
    "papermill": {
     "duration": 0.224164,
     "end_time": "2022-11-22T06:42:34.463849",
     "exception": false,
     "start_time": "2022-11-22T06:42:34.239685",
     "status": "completed"
    },
    "tags": []
   },
   "outputs": [
    {
     "name": "stderr",
     "output_type": "stream",
     "text": [
      "/opt/conda/lib/python3.7/site-packages/sklearn/base.py:444: UserWarning: X has feature names, but LinearRegression was fitted without feature names\n",
      "  f\"X has feature names, but {self.__class__.__name__} was fitted without\"\n"
     ]
    },
    {
     "data": {
      "image/png": "[encoded data removed]",
      "text/plain": [
       "<Figure size 432x288 with 1 Axes>"
      ]
     },
     "metadata": {
      "needs_background": "light"
     },
     "output_type": "display_data"
    }
   ],
   "source": [
    "plt.scatter(X,y,color='red')\n",
    "plt.plot(X,model.predict(X),color='blue')\n",
    "plt.xlabel('G4')\n",
    "plt.ylabel('G3')\n",
    "plt.show()"
   ]
  },
  {
   "cell_type": "code",
   "execution_count": 8,
   "id": "5375d8d8",
   "metadata": {
    "execution": {
     "iopub.execute_input": "2022-11-22T06:42:34.475517Z",
     "iopub.status.busy": "2022-11-22T06:42:34.475079Z",
     "iopub.status.idle": "2022-11-22T06:42:34.480597Z",
     "shell.execute_reply": "2022-11-22T06:42:34.479291Z"
    },
    "papermill": {
     "duration": 0.014076,
     "end_time": "2022-11-22T06:42:34.482957",
     "exception": false,
     "start_time": "2022-11-22T06:42:34.468881",
     "status": "completed"
    },
    "tags": []
   },
   "outputs": [],
   "source": [
    "# from sklearn.preprocessing import PolynomialFeatures\n",
    "# from sklearn.linear_model import LinearRegression\n",
    "\n",
    "# poly = PolynomialFeatures(degree = 6, include_bias = False) #experiment with the degree!\n",
    "# poly_features = poly.fit_transform(X_train.reshape(-1,1))\n",
    "\n",
    "# poly_reg_model = LinearRegression()\n",
    "# poly_reg_model.fit(poly_features, y_train)\n",
    "\n",
    "# polypredictions = poly_reg_model.predict(poly_features)\n",
    "\n",
    "# poly_features_test = poly.fit_transform(X_test.reshape(-1,1))\n",
    "\n",
    "# poly_reg_model.score(poly_features_test,y_test)"
   ]
  },
  {
   "cell_type": "code",
   "execution_count": 9,
   "id": "21b9aeca",
   "metadata": {
    "execution": {
     "iopub.execute_input": "2022-11-22T06:42:34.500316Z",
     "iopub.status.busy": "2022-11-22T06:42:34.499339Z",
     "iopub.status.idle": "2022-11-22T06:42:34.517912Z",
     "shell.execute_reply": "2022-11-22T06:42:34.516938Z"
    },
    "papermill": {
     "duration": 0.034799,
     "end_time": "2022-11-22T06:42:34.523630",
     "exception": false,
     "start_time": "2022-11-22T06:42:34.488831",
     "status": "completed"
    },
    "tags": []
   },
   "outputs": [
    {
     "name": "stdout",
     "output_type": "stream",
     "text": [
      "    Id         G3\n",
      "0    0   4.556406\n",
      "1    1  17.815262\n",
      "2    2  12.993860\n",
      "3    3   7.569782\n",
      "4    4   9.980483\n",
      "..  ..        ...\n",
      "70  70  13.596535\n",
      "71  71  11.788509\n",
      "72  72   8.172458\n",
      "73  73   9.980483\n",
      "74  74   8.172458\n",
      "\n",
      "[75 rows x 2 columns]\n"
     ]
    },
    {
     "name": "stderr",
     "output_type": "stream",
     "text": [
      "/opt/conda/lib/python3.7/site-packages/sklearn/base.py:444: UserWarning: X has feature names, but LinearRegression was fitted without feature names\n",
      "  f\"X has feature names, but {self.__class__.__name__} was fitted without\"\n"
     ]
    }
   ],
   "source": [
    "xt = test.loc[:,[\"G4\"]]\n",
    "#print(xt)\n",
    "predictions = model.predict(xt).ravel();\n",
    "#print(predictions)\n",
    "output = pd.DataFrame({'Id': list(range(0,75)), 'G3': predictions})\n",
    "output.to_csv('submission.csv', index=False)\n",
    "print(output)\n"
   ]
  },
  {
   "cell_type": "code",
   "execution_count": 10,
   "id": "60d10173",
   "metadata": {
    "execution": {
     "iopub.execute_input": "2022-11-22T06:42:34.537247Z",
     "iopub.status.busy": "2022-11-22T06:42:34.536301Z",
     "iopub.status.idle": "2022-11-22T06:42:34.541690Z",
     "shell.execute_reply": "2022-11-22T06:42:34.540497Z"
    },
    "papermill": {
     "duration": 0.015292,
     "end_time": "2022-11-22T06:42:34.544146",
     "exception": false,
     "start_time": "2022-11-22T06:42:34.528854",
     "status": "completed"
    },
    "tags": []
   },
   "outputs": [],
   "source": [
    "# from sklearn.preprocessing import PolynomialFeatures\n",
    "# from sklearn.linear_model import LinearRegression\n",
    "\n",
    "# xt = test.loc[:,[\"G2\"]]\n",
    "# poly_features = poly.fit_transform(xt)\n",
    "\n",
    "# polypredictions = poly_reg_model.predict(poly_features).ravel()\n",
    "# output = pd.DataFrame({'Id': list(range(0,75)), 'G3': polypredictions})\n",
    "# output.to_csv('submission.csv', index=False)\n",
    "# print(output)\n",
    "\n"
   ]
  }
 ],
 "metadata": {
  "kernelspec": {
   "display_name": "Python 3",
   "language": "python",
   "name": "python3"
  },
  "language_info": {
   "codemirror_mode": {
    "name": "ipython",
    "version": 3
   },
   "file_extension": ".py",
   "mimetype": "text/x-python",
   "name": "python",
   "nbconvert_exporter": "python",
   "pygments_lexer": "ipython3",
   "version": "3.7.12"
  },
  "papermill": {
   "default_parameters": {},
   "duration": 11.910833,
   "end_time": "2022-11-22T06:42:35.373059",
   "environment_variables": {},
   "exception": null,
   "input_path": "__notebook__.ipynb",
   "output_path": "__notebook__.ipynb",
   "parameters": {},
   "start_time": "2022-11-22T06:42:23.462226",
   "version": "2.3.4"
  }
 },
 "nbformat": 4,
 "nbformat_minor": 5
}
